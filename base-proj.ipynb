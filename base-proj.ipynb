{
 "cells": [
  {
   "cell_type": "markdown",
   "metadata": {},
   "source": [
    "# NAC3 - Aprendizado de maquina\n",
    "\n",
    "Nesta nac vamos desenvolver um modelo preditivo do valor do carro.\n",
    "\n",
    "\n",
    "Dica: Siga todas as instruções, completando e construindo os algoritmos necessários.\n",
    "\n",
    "Nas celulas **Seu Código aqui...** significa que é necessário realizar a implementação de algum código. Utilize quantos blocos julgar necessário para criar o código.\n",
    "\n",
    "Nas celulas **Responda** significa que é nessário uma resposta clara e objetiva (pode ser por texto, gráfico, imagem...) para a pergunta.\n",
    "\n",
    "\n",
    "## Informações do grupo\n",
    "\n",
    "Este projeto poderá ser feito por grupos de `até 2 alunos`.\n",
    "\n",
    "| Nome dos Integrantes     | RM             | Turma   |\n",
    "| :----------------------- | :-------------{
 "cells": [
  {
   "cell_type": "markdown",
   "metadata": {},
   "source": [
    "# NAC3 - Aprendizado de maquina\n",
    "\n",
    "Nesta nac vamos desenvolver um modelo preditivo do valor do carro.\n",
    "\n",
    "\n",
    "Dica: Siga todas as instruções, completando e construindo os algoritmos necessários.\n",
    "\n",
    "Nas celulas **Seu Código aqui...** significa que é necessário realizar a implementação de algum código. Utilize quantos blocos julgar necessário para criar o código.\n",
    "\n",
    "Nas celulas **Responda** significa que é nessário uma resposta clara e objetiva (pode ser por texto, gráfico, imagem...) para a pergunta.\n",
    "\n",
    "\n",
    "## Informações do grupo\n",
    "\n",
    "Este projeto poderá ser feito por grupos de `até 2 alunos`.\n",
    "\n",
    "| Nome dos Integrantes       | RM             | Turma   |\n",
    "| :-----------------------   | :------------- | :-----: |\n",
    "| Murilo Baptista de Melo    | RM 79918       | 4SIA    |\n",
    "| Joao Vitor Carvalho Camargo| RM 78882       | 4SIA    |\n",
    "\n",
    "\n",
    "## Data de entrega final\n",
    "\n",
    "Será considerado para avaliação e correção o ultimo commit do `**dia 16/09/2021**`\n",
    "\n",
    "Responda o `Google forms` :   [LINK FORMULARIO](https://forms.gle/2iivfbMVToXwe9Wc6).\n",
    "\n",
    "\n",
    "## Rubrica \n",
    "\n",
    "Os critérios de avaliação do projeto será conforme a rubrica.\n",
    "\n",
    "\n",
    "- R1: Exploração de Dados (Até 1 ponto)\n",
    "- R2: Preparação de Dados (Até 2 ponto)\n",
    "- R3: Desenvolvimento do Modelo (Até 2 ponto)\n",
    "- R4: Treinamento e Teste do Modelo (Até 1 ponto)\n",
    "- R5: Validação e Otimização do Modelo (Até 2 ponto)\n",
    "- R6: Conclusões Finais (Até 2 ponto)\n",
    "\n",
    "Nota_final = R1 + R2 + R3 + R4 + R5 + R6"
   ]
  },
  {
   "cell_type": "markdown",
   "metadata": {},
   "source": [
    "## 1. Exploração de Dados"
   ]
  },
  {
   "cell_type": "markdown",
   "metadata": {},
   "source": [
    "Os dados que serão utilizados extraídos do Kaggle deste [dataset](https://www.kaggle.com/nisargpatel/automobiles/data).\n",
    "\n",
    "Carregue o dataset \"Automobile.csv\" e faça uma inspeção nas 15 primeiras linhas para identificação básica dos atributos."
   ]
  },
  {
   "cell_type": "code",
   "execution_count": 1,
   "metadata": {},
   "outputs": [],
   "source": [
    "import seaborn as sns\n",
    "import matplotlib.pyplot as plt\n",
    "import pandas as pd\n",
    "import numpy as np\n",
    "\n",
    "%matplotlib inline"
   ]
  },
  {
   "cell_type": "code",
   "execution_count": 2,
   "metadata": {
    "scrolled": true
   },
   "outputs": [
    {
     "data": {
      "text/html": [
       "<div>\n",
       "<style scoped>\n",
       "    .dataframe tbody tr th:only-of-type {\n",
       "        vertical-align: middle;\n",
       "    }\n",
       "\n",
       "    .dataframe tbody tr th {\n",
       "        vertical-align: top;\n",
       "    }\n",
       "\n",
       "    .dataframe thead th {\n",
       "        text-align: right;\n",
       "    }\n",
       "</style>\n",
       "<table border=\"1\" class=\"dataframe\">\n",
       "  <thead>\n",
       "    <tr style=\"text-align: right;\">\n",
       "      <th></th>\n",
       "      <th>symboling</th>\n",
       "      <th>normalized_losses</th>\n",
       "      <th>make</th>\n",
       "      <th>fuel_type</th>\n",
       "      <th>aspiration</th>\n",
       "      <th>number_of_doors</th>\n",
       "      <th>body_style</th>\n",
       "      <th>drive_wheels</th>\n",
       "      <th>engine_location</th>\n",
       "      <th>wheel_base</th>\n",
       "      <th>...</th>\n",
       "      <th>engine_size</th>\n",
       "      <th>fuel_system</th>\n",
       "      <th>bore</th>\n",
       "      <th>stroke</th>\n",
       "      <th>compression_ratio</th>\n",
       "      <th>horsepower</th>\n",
       "      <th>peak_rpm</th>\n",
       "      <th>city_mpg</th>\n",
       "      <th>highway_mpg</th>\n",
       "      <th>price</th>\n",
       "    </tr>\n",
       "  </thead>\n",
       "  <tbody>\n",
       "    <tr>\n",
       "      <th>0</th>\n",
       "      <td>3</td>\n",
       "      <td>168</td>\n",
       "      <td>alfa-romero</td>\n",
       "      <td>gas</td>\n",
       "      <td>std</td>\n",
       "      <td>two</td>\n",
       "      <td>convertible</td>\n",
       "      <td>rwd</td>\n",
       "      <td>front</td>\n",
       "      <td>88.6</td>\n",
       "      <td>...</td>\n",
       "      <td>130</td>\n",
       "      <td>mpfi</td>\n",
       "      <td>3.47</td>\n",
       "      <td>2.68</td>\n",
       "      <td>9.0</td>\n",
       "      <td>111</td>\n",
       "      <td>5000</td>\n",
       "      <td>21</td>\n",
       "      <td>27</td>\n",
       "      <td>13495</td>\n",
       "    </tr>\n",
       "    <tr>\n",
       "      <th>1</th>\n",
       "      <td>3</td>\n",
       "      <td>168</td>\n",
       "      <td>alfa-romero</td>\n",
       "      <td>gas</td>\n",
       "      <td>std</td>\n",
       "      <td>two</td>\n",
       "      <td>convertible</td>\n",
       "      <td>rwd</td>\n",
       "      <td>front</td>\n",
       "      <td>88.6</td>\n",
       "      <td>...</td>\n",
       "      <td>130</td>\n",
       "      <td>mpfi</td>\n",
       "      <td>3.47</td>\n",
       "      <td>2.68</td>\n",
       "      <td>9.0</td>\n",
       "      <td>111</td>\n",
       "      <td>5000</td>\n",
       "      <td>21</td>\n",
       "      <td>27</td>\n",
       "      <td>16500</td>\n",
       "    </tr>\n",
       "    <tr>\n",
       "      <th>2</th>\n",
       "      <td>1</td>\n",
       "      <td>168</td>\n",
       "      <td>alfa-romero</td>\n",
       "      <td>gas</td>\n",
       "      <td>std</td>\n",
       "      <td>two</td>\n",
       "      <td>hatchback</td>\n",
       "      <td>rwd</td>\n",
       "      <td>front</td>\n",
       "      <td>94.5</td>\n",
       "      <td>...</td>\n",
       "      <td>152</td>\n",
       "      <td>mpfi</td>\n",
       "      <td>2.68</td>\n",
       "      <td>3.47</td>\n",
       "      <td>9.0</td>\n",
       "      <td>154</td>\n",
       "      <td>5000</td>\n",
       "      <td>19</td>\n",
       "      <td>26</td>\n",
       "      <td>16500</td>\n",
       "    </tr>\n",
       "    <tr>\n",
       "      <th>3</th>\n",
       "      <td>2</td>\n",
       "      <td>164</td>\n",
       "      <td>audi</td>\n",
       "      <td>gas</td>\n",
       "      <td>std</td>\n",
       "      <td>four</td>\n",
       "      <td>sedan</td>\n",
       "      <td>fwd</td>\n",
       "      <td>front</td>\n",
       "      <td>99.8</td>\n",
       "      <td>...</td>\n",
       "      <td>109</td>\n",
       "      <td>mpfi</td>\n",
       "      <td>3.19</td>\n",
       "      <td>3.40</td>\n",
       "      <td>10.0</td>\n",
       "      <td>102</td>\n",
       "      <td>5500</td>\n",
       "      <td>24</td>\n",
       "      <td>30</td>\n",
       "      <td>13950</td>\n",
       "    </tr>\n",
       "    <tr>\n",
       "      <th>4</th>\n",
       "      <td>2</td>\n",
       "      <td>164</td>\n",
       "      <td>audi</td>\n",
       "      <td>gas</td>\n",
       "      <td>std</td>\n",
       "      <td>four</td>\n",
       "      <td>sedan</td>\n",
       "      <td>4wd</td>\n",
       "      <td>front</td>\n",
       "      <td>99.4</td>\n",
       "      <td>...</td>\n",
       "      <td>136</td>\n",
       "      <td>mpfi</td>\n",
       "      <td>3.19</td>\n",
       "      <td>3.40</td>\n",
       "      <td>8.0</td>\n",
       "      <td>115</td>\n",
       "      <td>5500</td>\n",
       "      <td>18</td>\n",
       "      <td>22</td>\n",
       "      <td>17450</td>\n",
       "    </tr>\n",
       "    <tr>\n",
       "      <th>5</th>\n",
       "      <td>2</td>\n",
       "      <td>161</td>\n",
       "      <td>audi</td>\n",
       "      <td>gas</td>\n",
       "      <td>std</td>\n",
       "      <td>two</td>\n",
       "      <td>sedan</td>\n",
       "      <td>fwd</td>\n",
       "      <td>front</td>\n",
       "      <td>99.8</td>\n",
       "      <td>...</td>\n",
       "      <td>136</td>\n",
       "      <td>mpfi</td>\n",
       "      <td>3.19</td>\n",
       "      <td>3.40</td>\n",
       "      <td>8.5</td>\n",
       "      <td>110</td>\n",
       "      <td>5500</td>\n",
       "      <td>19</td>\n",
       "      <td>25</td>\n",
       "      <td>15250</td>\n",
       "    </tr>\n",
       "    <tr>\n",
       "      <th>6</th>\n",
       "      <td>1</td>\n",
       "      <td>158</td>\n",
       "      <td>audi</td>\n",
       "      <td>gas</td>\n",
       "      <td>std</td>\n",
       "      <td>four</td>\n",
       "      <td>sedan</td>\n",
       "      <td>fwd</td>\n",
       "      <td>front</td>\n",
       "      <td>105.8</td>\n",
       "      <td>...</td>\n",
       "      <td>136</td>\n",
       "      <td>mpfi</td>\n",
       "      <td>3.19</td>\n",
       "      <td>3.40</td>\n",
       "      <td>8.5</td>\n",
       "      <td>110</td>\n",
       "      <td>5500</td>\n",
       "      <td>19</td>\n",
       "      <td>25</td>\n",
       "      <td>17710</td>\n",
       "    </tr>\n",
       "    <tr>\n",
       "      <th>7</th>\n",
       "      <td>1</td>\n",
       "      <td>168</td>\n",
       "      <td>audi</td>\n",
       "      <td>gas</td>\n",
       "      <td>std</td>\n",
       "      <td>four</td>\n",
       "      <td>wagon</td>\n",
       "      <td>fwd</td>\n",
       "      <td>front</td>\n",
       "      <td>105.8</td>\n",
       "      <td>...</td>\n",
       "      <td>136</td>\n",
       "      <td>mpfi</td>\n",
       "      <td>3.19</td>\n",
       "      <td>3.40</td>\n",
       "      <td>8.5</td>\n",
       "      <td>110</td>\n",
       "      <td>5500</td>\n",
       "      <td>19</td>\n",
       "      <td>25</td>\n",
       "      <td>18920</td>\n",
       "    </tr>\n",
       "    <tr>\n",
       "      <th>8</th>\n",
       "      <td>1</td>\n",
       "      <td>158</td>\n",
       "      <td>audi</td>\n",
       "      <td>gas</td>\n",
       "      <td>turbo</td>\n",
       "      <td>four</td>\n",
       "      <td>sedan</td>\n",
       "      <td>fwd</td>\n",
       "      <td>front</td>\n",
       "      <td>105.8</td>\n",
       "      <td>...</td>\n",
       "      <td>131</td>\n",
       "      <td>mpfi</td>\n",
       "      <td>3.13</td>\n",
       "      <td>3.40</td>\n",
       "      <td>8.3</td>\n",
       "      <td>140</td>\n",
       "      <td>5500</td>\n",
       "      <td>17</td>\n",
       "      <td>20</td>\n",
       "      <td>23875</td>\n",
       "    </tr>\n",
       "    <tr>\n",
       "      <th>9</th>\n",
       "      <td>2</td>\n",
       "      <td>192</td>\n",
       "      <td>bmw</td>\n",
       "      <td>gas</td>\n",
       "      <td>std</td>\n",
       "      <td>two</td>\n",
       "      <td>sedan</td>\n",
       "      <td>rwd</td>\n",
       "      <td>front</td>\n",
       "      <td>101.2</td>\n",
       "      <td>...</td>\n",
       "      <td>108</td>\n",
       "      <td>mpfi</td>\n",
       "      <td>3.50</td>\n",
       "      <td>2.80</td>\n",
       "      <td>8.8</td>\n",
       "      <td>101</td>\n",
       "      <td>5800</td>\n",
       "      <td>23</td>\n",
       "      <td>29</td>\n",
       "      <td>16430</td>\n",
       "    </tr>\n",
       "    <tr>\n",
       "      <th>10</th>\n",
       "      <td>0</td>\n",
       "      <td>192</td>\n",
       "      <td>bmw</td>\n",
       "      <td>gas</td>\n",
       "      <td>std</td>\n",
       "      <td>four</td>\n",
       "      <td>sedan</td>\n",
       "      <td>rwd</td>\n",
       "      <td>front</td>\n",
       "      <td>101.2</td>\n",
       "      <td>...</td>\n",
       "      <td>108</td>\n",
       "      <td>mpfi</td>\n",
       "      <td>3.50</td>\n",
       "      <td>2.80</td>\n",
       "      <td>8.8</td>\n",
       "      <td>101</td>\n",
       "      <td>5800</td>\n",
       "      <td>23</td>\n",
       "      <td>29</td>\n",
       "      <td>16925</td>\n",
       "    </tr>\n",
       "    <tr>\n",
       "      <th>11</th>\n",
       "      <td>0</td>\n",
       "      <td>188</td>\n",
       "      <td>bmw</td>\n",
       "      <td>gas</td>\n",
       "      <td>std</td>\n",
       "      <td>two</td>\n",
       "      <td>sedan</td>\n",
       "      <td>rwd</td>\n",
       "      <td>front</td>\n",
       "      <td>101.2</td>\n",
       "      <td>...</td>\n",
       "      <td>164</td>\n",
       "      <td>mpfi</td>\n",
       "      <td>3.31</td>\n",
       "      <td>3.19</td>\n",
       "      <td>9.0</td>\n",
       "      <td>121</td>\n",
       "      <td>4250</td>\n",
       "      <td>21</td>\n",
       "      <td>28</td>\n",
       "      <td>20970</td>\n",
       "    </tr>\n",
       "    <tr>\n",
       "      <th>12</th>\n",
       "      <td>0</td>\n",
       "      <td>188</td>\n",
       "      <td>bmw</td>\n",
       "      <td>gas</td>\n",
       "      <td>std</td>\n",
       "      <td>four</td>\n",
       "      <td>sedan</td>\n",
       "      <td>rwd</td>\n",
       "      <td>front</td>\n",
       "      <td>101.2</td>\n",
       "      <td>...</td>\n",
       "      <td>164</td>\n",
       "      <td>mpfi</td>\n",
       "      <td>3.31</td>\n",
       "      <td>3.19</td>\n",
       "      <td>9.0</td>\n",
       "      <td>121</td>\n",
       "      <td>4250</td>\n",
       "      <td>21</td>\n",
       "      <td>28</td>\n",
       "      <td>21105</td>\n",
       "    </tr>\n",
       "    <tr>\n",
       "      <th>13</th>\n",
       "      <td>1</td>\n",
       "      <td>149</td>\n",
       "      <td>bmw</td>\n",
       "      <td>gas</td>\n",
       "      <td>std</td>\n",
       "      <td>four</td>\n",
       "      <td>sedan</td>\n",
       "      <td>rwd</td>\n",
       "      <td>front</td>\n",
       "      <td>103.5</td>\n",
       "      <td>...</td>\n",
       "      <td>164</td>\n",
       "      <td>mpfi</td>\n",
       "      <td>3.31</td>\n",
       "      <td>3.19</td>\n",
       "      <td>9.0</td>\n",
       "      <td>121</td>\n",
       "      <td>4250</td>\n",
       "      <td>20</td>\n",
       "      <td>25</td>\n",
       "      <td>24565</td>\n",
       "    </tr>\n",
       "    <tr>\n",
       "      <th>14</th>\n",
       "      <td>0</td>\n",
       "      <td>149</td>\n",
       "      <td>bmw</td>\n",
       "      <td>gas</td>\n",
       "      <td>std</td>\n",
       "      <td>four</td>\n",
       "      <td>sedan</td>\n",
       "      <td>rwd</td>\n",
       "      <td>front</td>\n",
       "      <td>103.5</td>\n",
       "      <td>...</td>\n",
       "      <td>209</td>\n",
       "      <td>mpfi</td>\n",
       "      <td>3.62</td>\n",
       "      <td>3.39</td>\n",
       "      <td>8.0</td>\n",
       "      <td>182</td>\n",
       "      <td>5400</td>\n",
       "      <td>16</td>\n",
       "      <td>22</td>\n",
       "      <td>30760</td>\n",
       "    </tr>\n",
       "  </tbody>\n",
       "</table>\n",
       "<p>15 rows × 26 columns</p>\n",
       "</div>"
      ],
      "text/plain": [
       "    symboling  normalized_losses         make fuel_type aspiration  \\\n",
       "0           3                168  alfa-romero       gas        std   \n",
       "1           3                168  alfa-romero       gas        std   \n",
       "2           1                168  alfa-romero       gas        std   \n",
       "3           2                164         audi       gas        std   \n",
       "4           2                164         audi       gas        std   \n",
       "5           2                161         audi       gas        std   \n",
       "6           1                158         audi       gas        std   \n",
       "7           1                168         audi       gas        std   \n",
       "8           1                158         audi       gas      turbo   \n",
       "9           2                192          bmw       gas        std   \n",
       "10          0                192          bmw       gas        std   \n",
       "11          0                188          bmw       gas        std   \n",
       "12          0                188          bmw       gas        std   \n",
       "13          1                149          bmw       gas        std   \n",
       "14          0                149          bmw       gas        std   \n",
       "\n",
       "   number_of_doors   body_style drive_wheels engine_location  wheel_base  ...  \\\n",
       "0              two  convertible          rwd           front        88.6  ...   \n",
       "1              two  convertible          rwd           front        88.6  ...   \n",
       "2              two    hatchback          rwd           front        94.5  ...   \n",
       "3             four        sedan          fwd           front        99.8  ...   \n",
       "4             four        sedan          4wd           front        99.4  ...   \n",
       "5              two        sedan          fwd           front        99.8  ...   \n",
       "6             four        sedan          fwd           front       105.8  ...   \n",
       "7             four        wagon          fwd           front       105.8  ...   \n",
       "8             four        sedan          fwd           front       105.8  ...   \n",
       "9              two        sedan          rwd           front       101.2  ...   \n",
       "10            four        sedan          rwd           front       101.2  ...   \n",
       "11             two        sedan          rwd           front       101.2  ...   \n",
       "12            four        sedan          rwd           front       101.2  ...   \n",
       "13            four        sedan          rwd           front       103.5  ...   \n",
       "14            four        sedan          rwd           front       103.5  ...   \n",
       "\n",
       "    engine_size  fuel_system  bore  stroke compression_ratio horsepower  \\\n",
       "0           130         mpfi  3.47    2.68               9.0        111   \n",
       "1           130         mpfi  3.47    2.68               9.0        111   \n",
       "2           152         mpfi  2.68    3.47               9.0        154   \n",
       "3           109         mpfi  3.19    3.40              10.0        102   \n",
       "4           136         mpfi  3.19    3.40               8.0        115   \n",
       "5           136         mpfi  3.19    3.40               8.5        110   \n",
       "6           136         mpfi  3.19    3.40               8.5        110   \n",
       "7           136         mpfi  3.19    3.40               8.5        110   \n",
       "8           131         mpfi  3.13    3.40               8.3        140   \n",
       "9           108         mpfi  3.50    2.80               8.8        101   \n",
       "10          108         mpfi  3.50    2.80               8.8        101   \n",
       "11          164         mpfi  3.31    3.19               9.0        121   \n",
       "12          164         mpfi  3.31    3.19               9.0        121   \n",
       "13          164         mpfi  3.31    3.19               9.0        121   \n",
       "14          209         mpfi  3.62    3.39               8.0        182   \n",
       "\n",
       "    peak_rpm city_mpg  highway_mpg  price  \n",
       "0       5000       21           27  13495  \n",
       "1       5000       21           27  16500  \n",
       "2       5000       19           26  16500  \n",
       "3       5500       24           30  13950  \n",
       "4       5500       18           22  17450  \n",
       "5       5500       19           25  15250  \n",
       "6       5500       19           25  17710  \n",
       "7       5500       19           25  18920  \n",
       "8       5500       17           20  23875  \n",
       "9       5800       23           29  16430  \n",
       "10      5800       23           29  16925  \n",
       "11      4250       21           28  20970  \n",
       "12      4250       21           28  21105  \n",
       "13      4250       20           25  24565  \n",
       "14      5400       16           22  30760  \n",
       "\n",
       "[15 rows x 26 columns]"
      ]
     },
     "execution_count": 2,
     "metadata": {},
     "output_type": "execute_result"
    }
   ],
   "source": [
    "#Seu Código aqui...\n",
    "df = pd.read_csv('Automobile.csv')\n",
    "pd.set_option('display.max_rows', 15)\n",
    "df.shape\n",
    "df.head(15)\n"
   ]
  },
  {
   "cell_type": "markdown",
   "metadata": {},
   "source": [
    "**Pergunta:** Apresente uma relação das coluna e seu significado:\n",
    "\n",
    "Exemplo: \n",
    "\n",
    "- make: fabricante\n",
    "- fuel_type: tipo de combustível\n",
    "- price: preço (**Variável Alvo, atributo que será predito pelo modelo de ML**)"
   ]
  },
  {
   "cell_type": "markdown",
   "metadata": {},
   "source": [
    "**Responda**\n",
    "make: fabricante\n",
    "fuel_type: tipo de combustível\n",
    "aspiration: metódo de combustão do motor\n",
    "number_of_doors: número de portas\n",
    "body_style: tipo de carroceria\n",
    "drive_wheels: tipo de tração\n",
    "engine_location: posição do motor em relação à carroceria\n",
    "wheel_base: distância de entre - eixos\n",
    "length: comprimento\n",
    "width: largura\n",
    "height: altura\n",
    "curb_weight: peso do carro sem passageiros\n",
    "engine_type: tipo de motor\n",
    "number_of_cylinders: número de cilindros do motor\n",
    "engine_size: tamanho do motor em polegadas cúbicas\n",
    "fuel_system: tipo de injeção\n",
    "bore: circunfêrencia do pistão em polegadas\n",
    "stroke: curso do motor em polegadas\n",
    "compression_ratio: taxa de compressão do motor\n",
    "horsepower: potencia do motor em cavalos de força ou hp.\n",
    "peak_rpm: rotação em que o motor entrega o maior pico de potência\n",
    "city_mpg: consumo de combustível urbano em milhas por galão americano\n",
    "highway_mpg: consumo de combustível na estrada em milhas por galão americano\n",
    "price: preço"
   ]
  },
  {
   "cell_type": "markdown",
   "metadata": {},
   "source": [
    "### Análise profunda dos dados\n",
    "\n",
    "Faça uma análise exploratória dos dados. Utilize-se de gráficos e tabelas auxiliares, faça correlações entre os atributos e levante algumas suposições. "
   ]
  },
  {
   "cell_type": "markdown",
   "metadata": {},
   "source": [
    "**Pergunta:** Cite um exemplo de pelo menos os 3 cenários propostos que corroboram a leitura dos dados apresentados, justique sua resposta."
   ]
  },
  {
   "cell_type": "code",
   "execution_count": 3,
   "metadata": {},
   "outputs": [
    {
     "data": {
      "image/png": "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\n",
      "text/plain": [
       "<Figure size 432x288 with 1 Axes>"
      ]
     },
     "metadata": {
      "needs_background": "light"
     },
     "output_type": "display_data"
    },
    {
     "data": {
      "image/png": "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\n",
      "text/plain": [
       "<Figure size 1080x1080 with 1 Axes>"
      ]
     },
     "metadata": {
      "needs_background": "light"
     },
     "output_type": "display_data"
    },
    {
     "data": {
      "image/png": "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\n",
      "text/plain": [
       "<Figure size 432x432 with 3 Axes>"
      ]
     },
     "metadata": {
      "needs_background": "light"
     },
     "output_type": "display_data"
    },
    {
     "data": {
      "image/png": "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\n",
      "text/plain": [
       "<Figure size 432x288 with 1 Axes>"
      ]
     },
     "metadata": {
      "needs_background": "light"
     },
     "output_type": "display_data"
    },
    {
     "data": {
      "image/png": "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\n",
      "text/plain": [
       "<Figure size 432x288 with 1 Axes>"
      ]
     },
     "metadata": {
      "needs_background": "light"
     },
     "output_type": "display_data"
    }
   ],
   "source": [
    "#Seu Código aqui...\n",
    "df['make'].value_counts().plot(kind='bar')\n",
    "plt.show()\n",
    "\n",
    "sns.catplot(data=df, x='make', y='price', height=15);\n",
    "\n",
    "plt.show()\n",
    "\n",
    "sns.jointplot(data=df, x='engine_size', y='horsepower', kind=\"reg\");\n",
    "\n",
    "plt.show()\n",
    "\n",
    "sns.barplot(data=df, x='body_style', y='price', ci=50);\n",
    "\n",
    "plt.show()\n",
    "\n",
    "sns.barplot(data=df, x='body_style', y='horsepower', ci=50);\n",
    "\n",
    "\n",
    "\n",
    "\n",
    "\n"
   ]
  },
  {
   "cell_type": "markdown",
   "metadata": {},
   "source": [
    "**Resposta:**\n",
    "Aqui temos 5 cenários distintos que levantam e respondem algumas suposições. No primeiro gráfico, podemos ver que este dataset possui em sua maioria informações de veículos da fabricante Toyota, seguido de Nissan e Mazda, enquanto no segundo podemos ver o range de valores que cada fabricante tem nos seus carros, sendo a Mercedes-Benz a fabricante o carro mais caro de todo dataset.\n",
    "No próximo gráfico, é traçado uma regressão linear onde mostra o impacto que o tamanho do motor traz, alavancando ou em alguns casos específicos nem tanto, a potência do motor.\n",
    "É interessante também que quando analisado o tipo de carroceria dos carros em relação ao preço os Conversiveis e Hardtop são por uma boa margem os mais caros do dataset, condizendo com isso, eles também mostram no ultimo gráfico que são os mais potentes em cavalos de força no motor, levando a crer que são modelos luxuosos e/ou esportivos, mais caros que os demais."
   ]
  },
  {
   "cell_type": "markdown",
   "metadata": {},
   "source": [
    "## 2. Preparação dos Dados"
   ]
  },
  {
   "cell_type": "markdown",
   "metadata": {},
   "source": [
    "### Análise de valores inválidos\n",
    "\n",
    "Faça a análise de dados ausente, dados nulos e dados iguais a 0(zero). **Lembre-se:** Trate esses dados dentro do contexto de análise e justifique suas escolhas.\n",
    " "
   ]
  },
  {
   "cell_type": "markdown",
   "metadata": {},
   "source": [
    "**Resposta:**"
   ]
  },
  {
   "cell_type": "code",
   "execution_count": 4,
   "metadata": {},
   "outputs": [
    {
     "name": "stdout",
     "output_type": "stream",
     "text": [
      "toyota         32\n",
      "nissan         18\n",
      "mazda          17\n",
      "mitsubishi     13\n",
      "honda          13\n",
      "               ..\n",
      "chevrolet       3\n",
      "alfa-romero     3\n",
      "isuzu           2\n",
      "renault         2\n",
      "mercury         1\n",
      "Name: make, Length: 22, dtype: int64\n",
      "gas       181\n",
      "diesel     20\n",
      "Name: fuel_type, dtype: int64\n",
      "std      165\n",
      "turbo     36\n",
      "Name: aspiration, dtype: int64\n",
      "four    114\n",
      "two      87\n",
      "Name: number_of_doors, dtype: int64\n",
      "sedan          94\n",
      "hatchback      68\n",
      "wagon          25\n",
      "hardtop         8\n",
      "convertible     6\n",
      "Name: body_style, dtype: int64\n",
      "fwd    118\n",
      "rwd     75\n",
      "4wd      8\n",
      "Name: drive_wheels, dtype: int64\n",
      "front    198\n",
      "rear       3\n",
      "Name: engine_location, dtype: int64\n",
      "93.7     20\n",
      "94.5     19\n",
      "95.7     13\n",
      "96.5      8\n",
      "97.3      7\n",
      "         ..\n",
      "96.6      1\n",
      "120.9     1\n",
      "99.2      1\n",
      "102.7     1\n",
      "112.0     1\n",
      "Name: wheel_base, Length: 52, dtype: int64\n",
      "157.3    15\n",
      "188.8    11\n",
      "171.7     7\n",
      "186.7     7\n",
      "166.3     7\n",
      "         ..\n",
      "165.6     1\n",
      "187.5     1\n",
      "180.3     1\n",
      "208.1     1\n",
      "199.2     1\n",
      "Name: length, Length: 73, dtype: int64\n",
      "63.8    24\n",
      "66.5    23\n",
      "65.4    15\n",
      "68.4    10\n",
      "64.4    10\n",
      "        ..\n",
      "60.3     1\n",
      "70.9     1\n",
      "66.4     1\n",
      "66.2     1\n",
      "68.8     1\n",
      "Name: width, Length: 43, dtype: int64\n",
      "50.8    14\n",
      "55.7    12\n",
      "54.1    10\n",
      "54.5    10\n",
      "55.5     9\n",
      "        ..\n",
      "55.9     1\n",
      "52.4     1\n",
      "55.6     1\n",
      "53.1     1\n",
      "58.3     1\n",
      "Name: height, Length: 49, dtype: int64\n",
      "2385    4\n",
      "1918    3\n",
      "2275    3\n",
      "1989    3\n",
      "2579    2\n",
      "       ..\n",
      "2004    1\n",
      "2370    1\n",
      "2328    1\n",
      "2833    1\n",
      "3062    1\n",
      "Name: curb_weight, Length: 169, dtype: int64\n",
      "ohc      145\n",
      "ohcf      15\n",
      "ohcv      13\n",
      "dohc      12\n",
      "l         12\n",
      "rotor      4\n",
      "Name: engine_type, dtype: int64\n",
      "four      157\n",
      "six        24\n",
      "five       10\n",
      "two         4\n",
      "eight       4\n",
      "three       1\n",
      "twelve      1\n",
      "Name: number_of_cylinders, dtype: int64\n",
      "122    15\n",
      "92     15\n",
      "98     14\n",
      "97     14\n",
      "108    13\n",
      "       ..\n",
      "103     1\n",
      "304     1\n",
      "308     1\n",
      "326     1\n",
      "145     1\n",
      "Name: engine_size, Length: 43, dtype: int64\n",
      "mpfi    92\n",
      "2bbl    64\n",
      "idi     20\n",
      "1bbl    11\n",
      "spdi     9\n",
      "4bbl     3\n",
      "mfi      1\n",
      "spfi     1\n",
      "Name: fuel_system, dtype: int64\n",
      "3.62    23\n",
      "3.19    20\n",
      "3.15    15\n",
      "2.97    12\n",
      "3.03    10\n",
      "        ..\n",
      "3.60     1\n",
      "2.92     1\n",
      "3.76     1\n",
      "2.68     1\n",
      "2.99     1\n",
      "Name: bore, Length: 39, dtype: int64\n",
      "3.40    19\n",
      "3.15    14\n",
      "3.03    14\n",
      "3.23    14\n",
      "3.39    13\n",
      "        ..\n",
      "2.07     1\n",
      "3.21     1\n",
      "3.12     1\n",
      "2.76     1\n",
      "2.87     1\n",
      "Name: stroke, Length: 36, dtype: int64\n",
      "9.0     46\n",
      "9.4     26\n",
      "8.5     14\n",
      "9.5     13\n",
      "9.3     11\n",
      "        ..\n",
      "21.9     1\n",
      "22.0     1\n",
      "22.7     1\n",
      "10.1     1\n",
      "11.5     1\n",
      "Name: compression_ratio, Length: 32, dtype: int64\n",
      "68     19\n",
      "69     10\n",
      "70      9\n",
      "116     9\n",
      "110     8\n",
      "       ..\n",
      "154     1\n",
      "143     1\n",
      "142     1\n",
      "200     1\n",
      "106     1\n",
      "Name: horsepower, Length: 58, dtype: int64\n",
      "5500    38\n",
      "4800    36\n",
      "5000    27\n",
      "5200    23\n",
      "5400    11\n",
      "        ..\n",
      "6600     2\n",
      "4650     1\n",
      "5600     1\n",
      "4900     1\n",
      "5300     1\n",
      "Name: peak_rpm, Length: 22, dtype: int64\n",
      "31    28\n",
      "19    27\n",
      "24    22\n",
      "27    14\n",
      "26    12\n",
      "      ..\n",
      "45     1\n",
      "13     1\n",
      "49     1\n",
      "47     1\n",
      "33     1\n",
      "Name: city_mpg, Length: 29, dtype: int64\n",
      "25    19\n",
      "38    17\n",
      "24    17\n",
      "30    16\n",
      "32    16\n",
      "      ..\n",
      "46     2\n",
      "54     1\n",
      "17     1\n",
      "53     1\n",
      "50     1\n",
      "Name: highway_mpg, Length: 30, dtype: int64\n",
      "8921     2\n",
      "18150    2\n",
      "8845     2\n",
      "8495     2\n",
      "7609     2\n",
      "        ..\n",
      "45400    1\n",
      "16503    1\n",
      "5389     1\n",
      "6189     1\n",
      "22625    1\n",
      "Name: price, Length: 186, dtype: int64\n"
     ]
    }
   ],
   "source": [
    "#Seu Código aqui...\n",
    "\n",
    "df = df.drop(columns=[\"symboling\",\"normalized_losses\"])\n",
    "\n",
    "for v2 in df:\n",
    "    print(df[v2].value_counts())\n",
    "\n",
    "#Foi verificado todo dataset atrás de dados ausentes e não foram encontrados nenhum tipo, além da retirada de colunas com dados não pertinentes às analises."
   ]
  },
  {
   "cell_type": "markdown",
   "metadata": {},
   "source": [
    "### __(BONUS: 1 ponto extra.)__ Análise de Outliers\n",
    "\n",
    "Realize a análise e o tratamento de **outliers**, como referência para estudo:\n",
    "\n",
    "* [link1](https://machinelearningmastery.com/model-based-outlier-detection-and-removal-in-python/)\n",
    "* [link2](https://towardsdatascience.com/4-machine-learning-techniques-for-outlier-detection-in-python-21e9cfacb81d)\n",
    "* [link3](https://minerandodados.com.br/tratando-outliers-python/)"
   ]
  },
  {
   "cell_type": "code",
   "execution_count": 5,
   "metadata": {},
   "outputs": [
    {
     "data": {
      "image/png": "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\n",
      "text/plain": [
       "<Figure size 432x288 with 1 Axes>"
      ]
     },
     "metadata": {},
     "output_type": "display_data"
    },
    {
     "name": "stdout",
     "output_type": "stream",
     "text": [
      "Nosso limite estabelecido está entre 44 e 210 , sendo assim qualquer dado fora dessa margem pode ser considerado um Outlier e pode ser tratado.\n"
     ]
    }
   ],
   "source": [
    "#Seu Código aqui...\n",
    "sns.set(style=\"whitegrid\", color_codes=True)\n",
    "sns.boxplot(data=df[\"engine_size\"]);\n",
    "plt.show()\n",
    "\n",
    "mean = np.mean(df[\"engine_size\"], axis=0)\n",
    "sd = np.std(df[\"engine_size\"],axis=0)\n",
    "\n",
    "min = mean - 2 * sd\n",
    "\n",
    "max = mean + 2 * sd\n",
    "\n",
    "print(\"Nosso limite estabelecido está entre\",round(min),\"e\",round(max),\", sendo assim qualquer dado fora dessa margem pode ser considerado um Outlier e pode ser tratado.\")\n"
   ]
  },
  {
   "cell_type": "markdown",
   "metadata": {},
   "source": [
    "**Pergunta:** Foram localizados outliers? Qual o método de análise adotado? Se existe, como os dados foram tratados (removidos ou mantidos)? "
   ]
  },
  {
   "cell_type": "markdown",
   "metadata": {},
   "source": [
    "**Resposta:**\n",
    "Localizamos outliers na coluna engine_type, atráves do método onde calculamos a média e o desvio padrão, assim criando um limite inferior e superior dos dados, fora desta margem os dados podem ser tratados, pois serão considerados Outliers. \n",
    "Neste caso optamos por mante-lôs já que os dados serão pertinentes a cada carro que pertence e isso justifica a grande variedade de \"tamanhos de motores\" como a coluna especifica, pois cada carro pode ter um tamanho diferente por decisões e preferência de cada fabricante ou tipo de motor."
   ]
  },
  {
   "cell_type": "markdown",
   "metadata": {},
   "source": [
    "### Tratamento de dados Paramétricos\n",
    "\n",
    "Faça o tratamento dos atributos não numéricos. Descubra quais são os atributos não numéricos, faça a análise dos valores desses atributos e manipule de forma conveniente para ser interpretado como um dado numérico. "
   ]
  },
  {
   "cell_type": "code",
   "execution_count": 6,
   "metadata": {},
   "outputs": [
    {
     "name": "stderr",
     "output_type": "stream",
     "text": [
      "c:\\users\\muril\\appdata\\local\\programs\\python\\python39\\lib\\site-packages\\category_encoders\\utils.py:21: FutureWarning: is_categorical is deprecated and will be removed in a future version.  Use is_categorical_dtype instead\n",
      "  elif pd.api.types.is_categorical(cols):\n"
     ]
    },
    {
     "data": {
      "text/plain": [
       "Index(['make_1', 'make_2', 'make_3', 'make_4', 'make_5', 'make_6', 'make_7',\n",
       "       'make_8', 'make_9', 'make_10', 'make_11', 'make_12', 'make_13',\n",
       "       'make_14', 'make_15', 'make_16', 'make_17', 'make_18', 'make_19',\n",
       "       'make_20', 'make_21', 'make_22', 'fuel_type_1', 'fuel_type_2',\n",
       "       'aspiration_1', 'aspiration_2', 'number_of_doors_1',\n",
       "       'number_of_doors_2', 'body_style_1', 'body_style_2', 'body_style_3',\n",
       "       'body_style_4', 'body_style_5', 'drive_wheels_1', 'drive_wheels_2',\n",
       "       'drive_wheels_3', 'engine_location_1', 'engine_location_2',\n",
       "       'wheel_base', 'length', 'width', 'height', 'curb_weight',\n",
       "       'engine_type_1', 'engine_type_2', 'engine_type_3', 'engine_type_4',\n",
       "       'engine_type_5', 'engine_type_6', 'number_of_cylinders_1',\n",
       "       'number_of_cylinders_2', 'number_of_cylinders_3',\n",
       "       'number_of_cylinders_4', 'number_of_cylinders_5',\n",
       "       'number_of_cylinders_6', 'number_of_cylinders_7', 'engine_size',\n",
       "       'fuel_system_1', 'fuel_system_2', 'fuel_system_3', 'fuel_system_4',\n",
       "       'fuel_system_5', 'fuel_system_6', 'fuel_system_7', 'fuel_system_8',\n",
       "       'bore', 'stroke', 'compression_ratio', 'horsepower', 'peak_rpm',\n",
       "       'city_mpg', 'highway_mpg', 'price'],\n",
       "      dtype='object')"
      ]
     },
     "execution_count": 6,
     "metadata": {},
     "output_type": "execute_result"
    }
   ],
   "source": [
    "#Seu Código aqui...\n",
    "import category_encoders as ce\n",
    "\n",
    "encoder = ce.OneHotEncoder(cols=['make', 'fuel_type', 'aspiration', 'number_of_doors', 'body_style', 'drive_wheels', 'engine_location', 'engine_type', 'number_of_cylinders', 'fuel_system'])\n",
    "\n",
    "df = encoder.fit_transform(df)\n",
    "\n",
    "df.columns"
   ]
  },
  {
   "cell_type": "markdown",
   "metadata": {},
   "source": [
    "**Pergunta:** Quais são os atributos não numéricos? Qual o método de análise adotado? Por que esse essa escolha? "
   ]
  },
  {
   "cell_type": "markdown",
   "metadata": {},
   "source": [
    "**Resposta:**\n",
    "Os dados não numericos são as colunas make, fuel_type, aspiration, number_of_doors, body_style, drive_wheels, engine_location, engine_type, number_of_cylinders, fuel_system, utilizamos a técnica OneHotEncoder com a biblioteca category_encoders, pela facilidade e para economizar tempo."
   ]
  },
  {
   "cell_type": "markdown",
   "metadata": {},
   "source": [
    "## 3. Desenvolvimento do Modelo"
   ]
  },
  {
   "cell_type": "markdown",
   "metadata": {},
   "source": [
    "**Pergunta:** O conjunto de dados indica a aplicação de qual modelo de aprendizagem de maquina para a determinação do preço de carro? Por que ? "
   ]
  },
  {
   "cell_type": "markdown",
   "metadata": {},
   "source": [
    "**Resposta:**\n",
    "\n",
    "    [ ] Aprendizado por reforço\n",
    "    [X] Aprendizado supervisionado\n",
    "    [ ] Aprendizado não supervisionado\n",
    "    O conjunto de dados responderá melhor em um modelo que será treinado atráves da seleção e separação de dados em um aprendizado supervisionado, onde será escolhido os dados dependentes e independentes e apartir disto é feito a predição."
   ]
  },
  {
   "cell_type": "markdown",
   "metadata": {},
   "source": [
    "**Pergunta:** Qual a técnica sugerida para este projeto?"
   ]
  },
  {
   "cell_type": "markdown",
   "metadata": {},
   "source": [
    "**Resposta:**\n",
    "\n",
    "    [ ] Regressão\n",
    "    [X] Classificação\n",
    "    [ ] Clusterização\n",
    "    Atráves dos metódos de algoritmos que codifiquei a que melhor respondeu atráves dos Scores de acuracia para esse dataset foram os algoritimos de Classificação."
   ]
  },
  {
   "cell_type": "markdown",
   "metadata": {},
   "source": [
    "**Pergunta:** Escolha 3 modelos de algoritmos para testar a performance de cada um deles."
   ]
  },
  {
   "cell_type": "markdown",
   "metadata": {},
   "source": [
    "**Resposta:**\n",
    "\n",
    "1. algoritimo ... Regressão Linear\n",
    "2. algoritimo ... KNN\n",
    "3. algoritimo ... Classificadores Naive Bayes\n"
   ]
  },
  {
   "cell_type": "markdown",
   "metadata": {},
   "source": [
    "**Pergunta:** Explique como cada algoritmo funciona.\n",
    "\n"
   ]
  },
  {
   "cell_type": "markdown",
   "metadata": {},
   "source": [
    "**Resposta:**\n",
    "\n",
    "1. algoritimo ...Regressão Linear é uma equação para se estimar um alvo (variável y ou dependente), dados os valores de outras variáveis (variáveis x ou independentes), se utilizados com parâmetros corretos é capaz de oferecer uma boa capacidade preditiva.\n",
    "2. algoritimo ...O KNN (K-Nearest Neighbor) é um algoritmo que determina a qual grupo uma determinada amostra vai pertencer com base nas amostras vizinhas, fazendo um cálculo de distância.\n",
    "3. algoritimo ...Trata-se de \"classificadores probabilísticos\" simples, baseados na aplicação do `teorema de Bayes` com fortes pressupostos de independência entre os atributos."
   ]
  },
  {
   "cell_type": "markdown",
   "metadata": {},
   "source": [
    "Crie um subset dos dados apenas com os atributos que serão utilizados para o treinameno e teste do modelo."
   ]
  },
  {
   "cell_type": "code",
   "execution_count": 7,
   "metadata": {},
   "outputs": [],
   "source": [
    "#Seu Código aqui...\n",
    "y= df['price']\n",
    "X = df.drop(['price'], axis = 1)"
   ]
  },
  {
   "cell_type": "markdown",
   "metadata": {},
   "source": [
    "Divida o subset em conjunto de treinamento e teste."
   ]
  },
  {
   "cell_type": "code",
   "execution_count": 8,
   "metadata": {},
   "outputs": [
    {
     "data": {
      "text/plain": [
       "((160, 72), (41, 72), (160,), (41,))"
      ]
     },
     "execution_count": 8,
     "metadata": {},
     "output_type": "execute_result"
    }
   ],
   "source": [
    "#Seu Código aqui...\n",
    "from sklearn.preprocessing import MinMaxScaler\n",
    "from sklearn.model_selection import train_test_split\n",
    "\n",
    "scaler = MinMaxScaler(feature_range=(0,1))\n",
    "\n",
    "scaled_data = scaler.fit_transform(X)\n",
    "\n",
    "X = pd.DataFrame(scaled_data,columns=df.columns[:-1])\n",
    "\n",
    "X_train, X_test, y_train, y_test = train_test_split(X, y, test_size = 0.2, random_state = 0)\n",
    "\n",
    "X_train.shape, X_test.shape, y_train.shape, y_test.shape\n",
    "\n"
   ]
  },
  {
   "cell_type": "markdown",
   "metadata": {},
   "source": [
    "## 4. Treinamento e teste do modelo\n",
    "\n",
    "Faça o treinamento e teste de dos 3 algoritmos escolhidos. Para cada um dos modelos utilize uma das métricas: R2-score, RMSE e MAE para avaliar a performance dos medelos. Utilize a média do obtido da validação cruzada para um kfold de 5."
   ]
  },
  {
   "cell_type": "markdown",
   "metadata": {},
   "source": [
    "### Algoritmo 1"
   ]
  },
  {
   "cell_type": "code",
   "execution_count": 9,
   "metadata": {},
   "outputs": [
    {
     "name": "stdout",
     "output_type": "stream",
     "text": [
      "RMSE: 1484.56\n"
     ]
    }
   ],
   "source": [
    "#Seu Código aqui...\n",
    "from sklearn import linear_model\n",
    "from sklearn.metrics import mean_squared_error\n",
    "from math import sqrt\n",
    "\n",
    "lm = linear_model.LinearRegression()\n",
    "model = lm.fit(X_train, y_train)\n",
    "\n",
    "predictions_test = lm.predict(X_test)\n",
    "predictions_train = lm.predict(X_train)\n",
    "\n",
    "rms_train = sqrt(mean_squared_error(y_train, predictions_train))\n",
    "print ('RMSE: %.2f' % rms_train)"
   ]
  },
  {
   "cell_type": "markdown",
   "metadata": {},
   "source": [
    "### Algoritmo 2"
   ]
  },
  {
   "cell_type": "code",
   "execution_count": 10,
   "metadata": {},
   "outputs": [
    {
     "name": "stdout",
     "output_type": "stream",
     "text": [
      "MAE: 2004.89\n"
     ]
    }
   ],
   "source": [
    "#Seu Código aqui...\n",
    "from sklearn.neighbors import KNeighborsClassifier\n",
    "import sklearn.metrics as metrics\n",
    "from math import sqrt\n",
    "\n",
    "knn = KNeighborsClassifier(n_neighbors=3)\n",
    "classification = knn.fit(X_train, y_train)\n",
    "\n",
    "classification_test = classification.predict(X_test)\n",
    "classification_train = classification.predict(X_train)\n",
    "\n",
    "\n",
    "mae = metrics.mean_absolute_error(y_train, classification_train)\n",
    "print ('MAE: %.2f' % mae)\n",
    "\n"
   ]
  },
  {
   "cell_type": "markdown",
   "metadata": {},
   "source": [
    "### Algoritmo 3"
   ]
  },
  {
   "cell_type": "code",
   "execution_count": 11,
   "metadata": {},
   "outputs": [
    {
     "name": "stdout",
     "output_type": "stream",
     "text": [
      "R2 Score: 0.9981067576367988\n"
     ]
    }
   ],
   "source": [
    "#Seu Código aqui...\n",
    "from sklearn.naive_bayes import GaussianNB\n",
    "from sklearn.metrics import r2_score\n",
    "\n",
    "gnb = GaussianNB()\n",
    "bayes = gnb.fit(X_train, y_train)\n",
    "\n",
    "bayes_test = bayes.predict(X_test)\n",
    "bayes_train = bayes.predict(X_train)\n",
    "\n",
    "r2 = r2_score(y_train, bayes_train)\n",
    "\n",
    "print ('R2 Score:', r2)\n",
    "\n"
   ]
  },
  {
   "cell_type": "markdown",
   "metadata": {},
   "source": [
    "**Pergunta:** Qual foi a performance de cada algoritmo? Explique os resultados e detalhe como a característica de cada algoritmo influenciou no resultado.\n",
    "\n",
    "**Resposta:**\n",
    "O algoritmo 1 que funciona atráves de regressão linear apresentou um RMSE muito alto, indicando que o algoritmo usado precisa de ajustes ou os parametros do modelo estejam sobrecarregados com dados outliers, necessitando um reajuste a fim de melhorar o Score e tornar um modelo preditivo viável.\n",
    "O algoritmo 2 também apresentou um Score indesejavelmente alto, em um modelo ideal precisamos de um RMSE/MAE = 0, mas alcançado tal marca é inviável por varios motivos de optimização, sendo assim alcançar uma pontuação próxima é desejável e ainda não conseguimos alcançar com o uso do KNN, um modelo preditivo classificador que compara amostra de grupos vizinhos realizando calculos por distância.\n",
    "O algoritmo 3 nós apresentou um score interessante, atráves do uso dos Classificadores Naive Bayes, utilizando o primeiro tipo Gaussian, apresentou um score preditivo ótimo, interpretando que o modelo preditivo está correto e quase não há erros, com um bem proximo de 1, que seria um modelo perfeito."
   ]
  },
  {
   "cell_type": "markdown",
   "metadata": {},
   "source": [
    "## 5. Validação e Otimização do Modelo\n",
    "\n",
    "Faça a otimização dos modelos, tunning dos hiperparametros, utilize técinicas como **RandomSearchCV** ou **GridSearchCV**."
   ]
  },
  {
   "cell_type": "markdown",
   "metadata": {},
   "source": [
    "**Pergunta:** Qual a técnica escolhida? Por que?\n",
    "\n",
    "**Resposta:** Utilizamos a GridSearchCV pois a ferramenta nós da possibilidade de testar diferentes hyperparametros nos diferentes modelos, diferente do outro que utiliza combinações randomicas até achar a melhor solução, como para cada modelo temos poucos parametros e podemos isolar categoricamente pra encontrar o melhor resultado sem maiores esforços."
   ]
  },
  {
   "cell_type": "markdown",
   "metadata": {},
   "source": [
    "### Algoritmo 1"
   ]
  },
  {
   "cell_type": "markdown",
   "metadata": {},
   "source": [
    "### Algoritmo 2"
   ]
  },
  {
   "cell_type": "code",
   "execution_count": 43,
   "metadata": {},
   "outputs": [
    {
     "name": "stderr",
     "output_type": "stream",
     "text": [
      "c:\\users\\muril\\appdata\\local\\programs\\python\\python39\\lib\\site-packages\\sklearn\\model_selection\\_split.py:666: UserWarning: The least populated class in y has only 1 members, which is less than n_splits=2.\n",
      "  warnings.warn((\"The least populated class in y has only %d\"\n",
      "c:\\users\\muril\\appdata\\local\\programs\\python\\python39\\lib\\site-packages\\sklearn\\model_selection\\_split.py:666: UserWarning: The least populated class in y has only 1 members, which is less than n_splits=2.\n",
      "  warnings.warn((\"The least populated class in y has only %d\"\n",
      "c:\\users\\muril\\appdata\\local\\programs\\python\\python39\\lib\\site-packages\\sklearn\\model_selection\\_split.py:666: UserWarning: The least populated class in y has only 1 members, which is less than n_splits=2.\n",
      "  warnings.warn((\"The least populated class in y has only %d\"\n"
     ]
    },
    {
     "name": "stdout",
     "output_type": "stream",
     "text": [
      "Melhores parametros {'n_neighbors': 1} com o valor de acurácia 0.05833333333333333 \n"
     ]
    }
   ],
   "source": [
    "#Seu Código aqui...\n",
    "from sklearn.neighbors import KNeighborsClassifier\n",
    "import sklearn.metrics as metrics\n",
    "from math import sqrt\n",
    "from sklearn.model_selection import RandomizedSearchCV\n",
    "from sklearn.model_selection import GridSearchCV\n",
    "from sklearn.model_selection import RepeatedStratifiedKFold\n",
    "\n",
    "k_list = list(range(1,31))\n",
    "parametros = dict(n_neighbors=k_list)\n",
    "\n",
    "\n",
    "cv = RepeatedStratifiedKFold(n_splits=2, n_repeats=3, random_state=1)\n",
    "grid = GridSearchCV(knn, parametros, cv=cv, scoring='accuracy')\n",
    "\n",
    "result = grid.fit(X_train,y_train)\n",
    "\n",
    "print(\"Melhores parametros {} com o valor de acurácia {} \".format(grid.best_params_,grid.best_score_))\n",
    "\n"
   ]
  },
  {
   "cell_type": "markdown",
   "metadata": {},
   "source": [
    "### Algoritmo 3"
   ]
  },
  {
   "cell_type": "code",
   "execution_count": 44,
   "metadata": {},
   "outputs": [
    {
     "name": "stdout",
     "output_type": "stream",
     "text": [
      "Fitting 6 folds for each of 50 candidates, totalling 300 fits\n"
     ]
    },
    {
     "name": "stderr",
     "output_type": "stream",
     "text": [
      "c:\\users\\muril\\appdata\\local\\programs\\python\\python39\\lib\\site-packages\\sklearn\\model_selection\\_split.py:666: UserWarning: The least populated class in y has only 1 members, which is less than n_splits=2.\n",
      "  warnings.warn((\"The least populated class in y has only %d\"\n",
      "c:\\users\\muril\\appdata\\local\\programs\\python\\python39\\lib\\site-packages\\sklearn\\model_selection\\_split.py:666: UserWarning: The least populated class in y has only 1 members, which is less than n_splits=2.\n",
      "  warnings.warn((\"The least populated class in y has only %d\"\n",
      "c:\\users\\muril\\appdata\\local\\programs\\python\\python39\\lib\\site-packages\\sklearn\\model_selection\\_split.py:666: UserWarning: The least populated class in y has only 1 members, which is less than n_splits=2.\n",
      "  warnings.warn((\"The least populated class in y has only %d\"\n"
     ]
    },
    {
     "name": "stdout",
     "output_type": "stream",
     "text": [
      "Melhores parametros {'var_smoothing': 1.0} com o valor de acurácia 0.05833333333333333 \n"
     ]
    }
   ],
   "source": [
    "from sklearn.naive_bayes import GaussianNB\n",
    "from sklearn.metrics import r2_score\n",
    "from sklearn.pipeline import Pipeline\n",
    "from sklearn.model_selection import GridSearchCV\n",
    "from sklearn.model_selection import RepeatedStratifiedKFold\n",
    "\n",
    "gnb = GaussianNB()\n",
    "bayes = gnb.fit(X_train, y_train)\n",
    "\n",
    "bayes_test = bayes.predict(X_test)\n",
    "bayes_train = bayes.predict(X_train)\n",
    "\n",
    "parametros = {'var_smoothing': np.logspace(0,-9, num=50)}\n",
    "\n",
    "\n",
    "cv = RepeatedStratifiedKFold(n_splits=2, n_repeats=3, random_state=1)\n",
    "\n",
    "grid = GridSearchCV(gnb, \n",
    "                 param_grid=parametros, \n",
    "                 cv=cv,\n",
    "                 verbose=1, \n",
    "                 scoring='accuracy') \n",
    "\n",
    "result = grid.fit(X_train,y_train)\n",
    "print(\"Melhores parametros {} com o valor de acurácia {} \".format(grid.best_params_,grid.best_score_))"
   ]
  },
  {
   "cell_type": "code",
   "execution_count": 19,
   "metadata": {},
   "outputs": [],
   "source": [
    "#Seu Código aqui...\n"
   ]
  },
  {
   "cell_type": "markdown",
   "metadata": {},
   "source": [
    "Sumarize na tabela abaixo os indicadores para cada um dos preditores e suas respectivas pontuações para os conjuntos de dados de treino e de testes"
   ]
  },
  {
   "cell_type": "markdown",
   "metadata": {},
   "source": [
    "**Resposta:**\n",
    "\n",
    "|                     | algoritmo1 | algoritmo2 | algoritmo3 |\n",
    "|:---------------------|:------------------:|:-----------------------------:|:-----------------:|\n",
    "| treino |      X           |      X                       |   X              |\n",
    "| teste  |      X            |      X                       |   X              |\n"
   ]
  },
  {
   "cell_type": "markdown",
   "metadata": {},
   "source": [
    "**Pergunta:** Qual dos algoritmos obteve os melhores resultados? Quais caracaterísticas deste algoritmo podem ajudar a justificar tal resultado?\n",
    "\n",
    "**Resposta:**"
   ]
  },
  {
   "cell_type": "markdown",
   "metadata": {},
   "source": [
    "### __(BONUS: 1 ponto extra.)__ Implementação do algoritmo otimizado\n",
    "\n",
    "Configure o modelo selecionado com os parâmetros otimizados obtidos anteriormente."
   ]
  },
  {
   "cell_type": "code",
   "execution_count": null,
   "metadata": {},
   "outputs": [],
   "source": [
    "#Seu Código aqui...\n",
    "\n"
   ]
  },
  {
   "cell_type": "markdown",
   "metadata": {},
   "source": [
    "### Modelo de produção: Teste com novos dados\n",
    "\n",
    "Utilize 3 exemplos criados por você mesmo para obter um valor de venda de veículo. Defina o teste para um resultado baixo, médio e alto do preço do carro."
   ]
  },
  {
   "cell_type": "code",
   "execution_count": null,
   "metadata": {},
   "outputs": [],
   "source": [
    "#Seu Código aqui...\n",
    "\n"
   ]
  },
  {
   "cell_type": "markdown",
   "metadata": {},
   "source": [
    "**Pergunta:** Qual foi o resultado obtido? O resultado está coerente com o esperado?\n",
    "\n",
    "**Resposta:**"
   ]
  },
  {
   "cell_type": "markdown",
   "metadata": {},
   "source": [
    "## 6. Conclusões finais\n",
    "\n",
    "Ufa!!... Chegamos ao final deste projeto. Parabéns! De forma simplificada e completa passamos por todas as etapas de aprendizado de maquina. Outras etapas podem ser adicionadas no tratamento dos dados e desenvolvimento do modelo."
   ]
  },
  {
   "cell_type": "markdown",
   "metadata": {},
   "source": [
    "**Pergunta:**: O modelo desenvolvido obteve um resultado satisfatório? Justifique:\n",
    "\n",
    "**Resposta**: Em nossa opnião, nossos modelos desenvolvidos não obtiveram um resultado satisfatório suficiente para predizer com uma boa margem de precisão, na parte do tratamento de dados do nosso dataset não conseguimos tratar de modo que dados não interessantes pudessem ser eliminados assim optimizando a uma altura que poderiam predizer o preço dos carros."
   ]
  },
  {
   "cell_type": "markdown",
   "metadata": {
    "collapsed": true
   },
   "source": [
    "**Pergunta:**: O que faria diferente para melhorar resultado obtido? Justifique:\n",
    "\n",
    "**Resposta**: A preparação dos dados é fundamental para que o algoritmo preditivo possa trabalhar bem no dataset, acreditamos que é a parte principal e que deve ser melhor optimizado a fim de reduzir outliers e melhorar a eficiência do modelo."
   ]
  },
  {
   "cell_type": "markdown",
   "metadata": {},
   "source": [
    "**Pergunta:**: As etapas de desenvolvimento se aplicam para um problema de classificação? Justifique:\n",
    "\n",
    "**Resposta**: Acreditamos que sim pois os 2 modelos de classificação que utilizamos apresentou uma acuracia melhor que de regressão, mesmo com um dataset poluído."
   ]
  }
 ],
 "metadata": {
  "kernelspec": {
   "display_name": "Python 3",
   "language": "python",
   "name": "python3"
  },
  "language_info": {
   "codemirror_mode": {
    "name": "ipython",
    "version": 3
   },
   "file_extension": ".py",
   "mimetype": "text/x-python",
   "name": "python",
   "nbconvert_exporter": "python",
   "pygments_lexer": "ipython3",
   "version": "3.9.2"
  }
 },
 "nbformat": 4,
 "nbformat_minor": 2
}
 | :-----: |\n",
    "| Integrante 1             | RM             |         |\n",
    "| Integrante 2             | RM             |         |\n",
    "\n",
    "\n",
    "## Data de entrega final\n",
    "\n",
    "Será considerado para avaliação e correção o ultimo commit do `**dia 16/09/2021**`\n",
    "\n",
    "Responda o `Google forms` :   [LINK FORMULARIO](https://forms.gle/2iivfbMVToXwe9Wc6).\n",
    "\n",
    "\n",
    "## Rubrica \n",
    "\n",
    "Os critérios de avaliação do projeto será conforme a rubrica.\n",
    "\n",
    "\n",
    "- R1: Exploração de Dados (Até 1 ponto)\n",
    "- R2: Preparação de Dados (Até 2 ponto)\n",
    "- R3: Desenvolvimento do Modelo (Até 2 ponto)\n",
    "- R4: Treinamento e Teste do Modelo (Até 1 ponto)\n",
    "- R5: Validação e Otimização do Modelo (Até 2 ponto)\n",
    "- R6: Conclusões Finais (Até 2 ponto)\n",
    "\n",
    "Nota_final = R1 + R2 + R3 + R4 + R5 + R6"
   ]
  },
  {
   "cell_type": "markdown",
   "metadata": {},
   "source": [
    "## 1. Exploração de Dados"
   ]
  },
  {
   "cell_type": "markdown",
   "metadata": {},
   "source": [
    "Os dados que serão utilizados extraídos do Kaggle deste [dataset](https://www.kaggle.com/nisargpatel/automobiles/data).\n",
    "\n",
    "Carregue o dataset \"Automobile.csv\" e faça uma inspeção nas 15 primeiras linhas para identificação básica dos atributos."
   ]
  },
  {
   "cell_type": "code",
   "execution_count": 1,
   "metadata": {
    "collapsed": true
   },
   "outputs": [],
   "source": [
    "import seaborn as sns\n",
    "import matplotlib.pyplot as plt\n",
    "import pandas as pd\n",
    "import numpy as np\n",
    "\n",
    "%matplotlib inline"
   ]
  },
  {
   "cell_type": "code",
   "execution_count": 2,
   "metadata": {
    "collapsed": true
   },
   "outputs": [],
   "source": [
    "#Seu Código aqui...\n",
    "\n"
   ]
  },
  {
   "cell_type": "markdown",
   "metadata": {},
   "source": [
    "**Pergunta:** Apresente uma relação das coluna e seu significado:\n",
    "\n",
    "Exemplo: \n",
    "\n",
    "- make: fabricante\n",
    "- fuel_type: tipo de combustível\n",
    "- price: preço (**Variável Alvo, atributo que será predito pelo modelo de ML**)"
   ]
  },
  {
   "cell_type": "markdown",
   "metadata": {},
   "source": [
    "**Responda**\n",
    "\n",
    "\n",
    "\n",
    "\n",
    "\n",
    "\n"
   ]
  },
  {
   "cell_type": "markdown",
   "metadata": {},
   "source": [
    "### Análise profunda dos dados\n",
    "\n",
    "Faça uma análise exploratória dos dados. Utilize-se de gráficos e tabelas auxiliares, faça correlações entre os atributos e levante algumas suposições. "
   ]
  },
  {
   "cell_type": "code",
   "execution_count": 3,
   "metadata": {
    "collapsed": true
   },
   "outputs": [],
   "source": [
    "#Seu Código aqui...\n"
   ]
  },
  {
   "cell_type": "markdown",
   "metadata": {},
   "source": [
    "**Pergunta:** Cite um exemplo de pelo menos os 3 cenários propostos que corroboram a leitura dos dados apresentados, justique sua resposta."
   ]
  },
  {
   "cell_type": "markdown",
   "metadata": {},
   "source": [
    "**Resposta:**"
   ]
  },
  {
   "cell_type": "markdown",
   "metadata": {},
   "source": [
    "## 2. Preparação dos Dados"
   ]
  },
  {
   "cell_type": "markdown",
   "metadata": {},
   "source": [
    "### Análise de valores inválidos\n",
    "\n",
    "Faça a análise de dados ausente, dados nulos e dados iguais a 0(zero). **Lembre-se:** Trate esses dados dentro do contexto de análise e justifique suas escolhas.\n",
    " "
   ]
  },
  {
   "cell_type": "markdown",
   "metadata": {},
   "source": [
    "**Resposta:**"
   ]
  },
  {
   "cell_type": "code",
   "execution_count": 5,
   "metadata": {
    "collapsed": true
   },
   "outputs": [],
   "source": [
    "#Seu Código aqui...\n",
    "\n"
   ]
  },
  {
   "cell_type": "markdown",
   "metadata": {},
   "source": [
    "### __(BONUS: 1 ponto extra.)__ Análise de Outliers\n",
    "\n",
    "Realize a análise e o tratamento de **outliers**, como referência para estudo:\n",
    "\n",
    "* [link1](https://machinelearningmastery.com/model-based-outlier-detection-and-removal-in-python/)\n",
    "* [link2](https://towardsdatascience.com/4-machine-learning-techniques-for-outlier-detection-in-python-21e9cfacb81d)\n",
    "* [link3](https://minerandodados.com.br/tratando-outliers-python/)"
   ]
  },
  {
   "cell_type": "code",
   "execution_count": null,
   "metadata": {},
   "outputs": [],
   "source": [
    "#Seu Código aqui..."
   ]
  },
  {
   "cell_type": "markdown",
   "metadata": {},
   "source": [
    "**Pergunta:** Foram localizados outliers? Qual o método de análise adotado? Se existe, como os dados foram tratados (removidos ou mantidos)? "
   ]
  },
  {
   "cell_type": "markdown",
   "metadata": {},
   "source": [
    "**Resposta:**"
   ]
  },
  {
   "cell_type": "markdown",
   "metadata": {},
   "source": [
    "### Tratamento de dados Paramétricos\n",
    "\n",
    "Faça o tratamento dos atributos não numéricos. Descubra quais são os atributos não numéricos, faça a análise dos valores desses atributos e manipule de forma conveniente para ser interpretado como um dado numérico. "
   ]
  },
  {
   "cell_type": "code",
   "execution_count": 9,
   "metadata": {
    "collapsed": true
   },
   "outputs": [],
   "source": [
    "#Seu Código aqui...\n"
   ]
  },
  {
   "cell_type": "markdown",
   "metadata": {},
   "source": [
    "**Pergunta:** Quais são os atributos não numéricos? Qual o método de análise adotado? Por que esse essa escolha? "
   ]
  },
  {
   "cell_type": "markdown",
   "metadata": {},
   "source": [
    "**Resposta:**"
   ]
  },
  {
   "cell_type": "markdown",
   "metadata": {},
   "source": [
    "## 3. Desenvolvimento do Modelo"
   ]
  },
  {
   "cell_type": "markdown",
   "metadata": {},
   "source": [
    "**Pergunta:** O conjunto de dados indica a aplicação de qual modelo de aprendizagem de maquina para a determinação do preço de carro? Por que ? "
   ]
  },
  {
   "cell_type": "markdown",
   "metadata": {},
   "source": [
    "**Resposta:**\n",
    "\n",
    "    [ ] Aprendizado por reforço\n",
    "    [ ] Aprendizado supervisionado\n",
    "    [ ] Aprendizado não supervisionado"
   ]
  },
  {
   "cell_type": "markdown",
   "metadata": {},
   "source": [
    "**Pergunta:** Qual a técnica sugerida para este projeto?"
   ]
  },
  {
   "cell_type": "markdown",
   "metadata": {},
   "source": [
    "**Resposta:**\n",
    "\n",
    "    [ ] Regressão\n",
    "    [ ] Classificação\n",
    "    [ ] Clusterização"
   ]
  },
  {
   "cell_type": "markdown",
   "metadata": {},
   "source": [
    "**Pergunta:** Escolha 3 modelos de algoritmos para testar a performance de cada um deles."
   ]
  },
  {
   "cell_type": "markdown",
   "metadata": {},
   "source": [
    "**Resposta:**\n",
    "\n",
    "1. algoritimo ...___________ \n",
    "2. algoritimo ...___________\n",
    "3. algoritimo ...___________\n"
   ]
  },
  {
   "cell_type": "markdown",
   "metadata": {},
   "source": [
    "**Pergunta:** Explique como cada algoritmo funciona.\n",
    "\n"
   ]
  },
  {
   "cell_type": "markdown",
   "metadata": {},
   "source": [
    "**Resposta:**\n",
    "\n",
    "1. algoritimo ...___________ \n",
    "2. algoritimo ...___________\n",
    "3. algoritimo ...___________"
   ]
  },
  {
   "cell_type": "markdown",
   "metadata": {},
   "source": [
    "Crie um subset dos dados apenas com os atributos que serão utilizados para o treinameno e teste do modelo."
   ]
  },
  {
   "cell_type": "code",
   "execution_count": 2,
   "metadata": {
    "collapsed": true
   },
   "outputs": [],
   "source": [
    "#Seu Código aqui...\n",
    "\n"
   ]
  },
  {
   "cell_type": "markdown",
   "metadata": {},
   "source": [
    "Divida o subset em conjunto de treinamento e teste."
   ]
  },
  {
   "cell_type": "code",
   "execution_count": 2,
   "metadata": {
    "collapsed": true
   },
   "outputs": [],
   "source": [
    "#Seu Código aqui...\n",
    "\n"
   ]
  },
  {
   "cell_type": "markdown",
   "metadata": {},
   "source": [
    "## 4. Treinamento e teste do modelo\n",
    "\n",
    "Faça o treinamento e teste de dos 3 algoritmos escolhidos. Para cada um dos modelos utilize uma das métricas: R2-score, RMSE e MAE para avaliar a performance dos medelos. Utilize a média do obtido da validação cruzada para um kfold de 5."
   ]
  },
  {
   "cell_type": "markdown",
   "metadata": {},
   "source": [
    "### Algoritmo 1"
   ]
  },
  {
   "cell_type": "code",
   "execution_count": 18,
   "metadata": {
    "collapsed": true
   },
   "outputs": [],
   "source": [
    "#Seu Código aqui...\n",
    "\n",
    "\n"
   ]
  },
  {
   "cell_type": "markdown",
   "metadata": {},
   "source": [
    "### Algoritmo 2"
   ]
  },
  {
   "cell_type": "code",
   "execution_count": 10,
   "metadata": {
    "collapsed": true
   },
   "outputs": [],
   "source": [
    "#Seu Código aqui...\n",
    "\n"
   ]
  },
  {
   "cell_type": "markdown",
   "metadata": {},
   "source": [
    "### Algoritmo 3"
   ]
  },
  {
   "cell_type": "code",
   "execution_count": 17,
   "metadata": {
    "collapsed": true
   },
   "outputs": [],
   "source": [
    "#Seu Código aqui...\n"
   ]
  },
  {
   "cell_type": "markdown",
   "metadata": {},
   "source": [
    "**Pergunta:** Qual foi a performance de cada algoritmo? Explique os resultados e detalhe como a característica de cada algoritmo influenciou no resultado.\n",
    "\n",
    "**Resposta:**"
   ]
  },
  {
   "cell_type": "markdown",
   "metadata": {},
   "source": [
    "## 5. Validação e Otimização do Modelo\n",
    "\n",
    "Faça a otimização dos modelos, tunning dos hiperparametros, utilize técinicas como **RandomSearchCV** ou **GridSearchCV**."
   ]
  },
  {
   "cell_type": "markdown",
   "metadata": {},
   "source": [
    "**Pergunta:** Qual a técnica escolhida? Por que?\n",
    "\n",
    "**Resposta:**"
   ]
  },
  {
   "cell_type": "markdown",
   "metadata": {},
   "source": [
    "### Algoritmo 1"
   ]
  },
  {
   "cell_type": "code",
   "execution_count": 18,
   "metadata": {
    "collapsed": true
   },
   "outputs": [],
   "source": [
    "#Seu Código aqui...\n",
    "\n",
    "\n"
   ]
  },
  {
   "cell_type": "markdown",
   "metadata": {},
   "source": [
    "### Algoritmo 2"
   ]
  },
  {
   "cell_type": "code",
   "execution_count": 10,
   "metadata": {
    "collapsed": true
   },
   "outputs": [],
   "source": [
    "#Seu Código aqui...\n",
    "\n"
   ]
  },
  {
   "cell_type": "markdown",
   "metadata": {},
   "source": [
    "### Algoritmo 3"
   ]
  },
  {
   "cell_type": "code",
   "execution_count": 17,
   "metadata": {
    "collapsed": true
   },
   "outputs": [],
   "source": [
    "#Seu Código aqui...\n"
   ]
  },
  {
   "cell_type": "markdown",
   "metadata": {},
   "source": [
    "Sumarize na tabela abaixo os indicadores para cada um dos preditores e suas respectivas pontuações para os conjuntos de dados de treino e de testes"
   ]
  },
  {
   "cell_type": "markdown",
   "metadata": {},
   "source": [
    "**Resposta:**\n",
    "\n",
    "|                     | algoritmo1 | algoritmo2 | algoritmo3 |\n",
    "|:---------------------|:------------------:|:-----------------------------:|:-----------------:|\n",
    "| treino |      X           |      X                       |   X              |\n",
    "| teste  |      X            |      X                       |   X              |\n"
   ]
  },
  {
   "cell_type": "markdown",
   "metadata": {},
   "source": [
    "**Pergunta:** Qual dos algoritmos obteve os melhores resultados? Quais caracaterísticas deste algoritmo podem ajudar a justificar tal resultado?\n",
    "\n",
    "**Resposta:**"
   ]
  },
  {
   "cell_type": "markdown",
   "metadata": {},
   "source": [
    "### __(BONUS: 1 ponto extra.)__ Implementação do algoritmo otimizado\n",
    "\n",
    "Configure o modelo selecionado com os parâmetros otimizados obtidos anteriormente."
   ]
  },
  {
   "cell_type": "code",
   "execution_count": 26,
   "metadata": {
    "collapsed": true
   },
   "outputs": [],
   "source": [
    "#Seu Código aqui...\n",
    "\n"
   ]
  },
  {
   "cell_type": "markdown",
   "metadata": {},
   "source": [
    "### Modelo de produção: Teste com novos dados\n",
    "\n",
    "Utilize 3 exemplos criados por você mesmo para obter um valor de venda de veículo. Defina o teste para um resultado baixo, médio e alto do preço do carro."
   ]
  },
  {
   "cell_type": "code",
   "execution_count": 29,
   "metadata": {
    "collapsed": true
   },
   "outputs": [],
   "source": [
    "#Seu Código aqui...\n",
    "\n"
   ]
  },
  {
   "cell_type": "markdown",
   "metadata": {},
   "source": [
    "**Pergunta:** Qual foi o resultado obtido? O resultado está coerente com o esperado?\n",
    "\n",
    "**Resposta:**"
   ]
  },
  {
   "cell_type": "markdown",
   "metadata": {},
   "source": [
    "## 6. Conclusões finais\n",
    "\n",
    "Ufa!!... Chegamos ao final deste projeto. Parabéns! De forma simplificada e completa passamos por todas as etapas de aprendizado de maquina. Outras etapas podem ser adicionadas no tratamento dos dados e desenvolvimento do modelo."
   ]
  },
  {
   "cell_type": "markdown",
   "metadata": {},
   "source": [
    "**Pergunta:**: O modelo desenvolvido obteve um resultado satisfatório? Justifique:\n",
    "\n",
    "**Resposta**:"
   ]
  },
  {
   "cell_type": "markdown",
   "metadata": {
    "collapsed": true
   },
   "source": [
    "**Pergunta:**: O que faria diferente para melhorar resultado obtido? Justifique:\n",
    "\n",
    "**Resposta**:"
   ]
  },
  {
   "cell_type": "markdown",
   "metadata": {},
   "source": [
    "**Pergunta:**: As etapas de desenvolvimento se aplicam para um problema de classificação? Justifique:\n",
    "\n",
    "**Resposta**:"
   ]
  }
 ],
 "metadata": {
  "kernelspec": {
   "display_name": "Python 3",
   "language": "python",
   "name": "python3"
  },
  "language_info": {
   "codemirror_mode": {
    "name": "ipython",
    "version": 3
   },
   "file_extension": ".py",
   "mimetype": "text/x-python",
   "name": "python",
   "nbconvert_exporter": "python",
   "pygments_lexer": "ipython3",
   "version": "3.8.10"
  }
 },
 "nbformat": 4,
 "nbformat_minor": 2
}
